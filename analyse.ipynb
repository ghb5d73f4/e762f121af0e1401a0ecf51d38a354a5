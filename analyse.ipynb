{
 "cells": [
  {
   "cell_type": "code",
   "execution_count": 1,
   "metadata": {
    "jupyter": {
     "source_hidden": true
    }
   },
   "outputs": [],
   "source": [
    "%matplotlib inline\n",
    "\n",
    "import os\n",
    "import math\n",
    "\n",
    "import matplotlib.pyplot as plt\n",
    "import numpy as np\n",
    "\n",
    "import ipywidgets as widgets\n",
    "from IPython.display import display, Markdown\n",
    "\n",
    "from tools.loadhisto import tnthisto, plotfit"
   ]
  },
  {
   "cell_type": "code",
   "execution_count": 2,
   "metadata": {
    "jupyter": {
     "source_hidden": true
    }
   },
   "outputs": [
    {
     "data": {
      "application/vnd.jupyter.widget-view+json": {
       "model_id": "9f1eec4a6a854c619843f494fd10ca6c",
       "version_major": 2,
       "version_minor": 0
      },
      "text/plain": [
       "Label(value='Données à charger :')"
      ]
     },
     "metadata": {},
     "output_type": "display_data"
    },
    {
     "data": {
      "application/vnd.jupyter.widget-view+json": {
       "model_id": "f0e4ef7f272d4039a3d4bdc0b292bb26",
       "version_major": 2,
       "version_minor": 0
      },
      "text/plain": [
       "Dropdown(description='donnée:', index=9, options=('Co 10 cm', 'Co 60 12 cm', 'Co 60 2 cm', 'Co 60 5 cm', 'Cs 1…"
      ]
     },
     "metadata": {},
     "output_type": "display_data"
    },
    {
     "data": {
      "application/vnd.jupyter.widget-view+json": {
       "model_id": "6c6c1895ac8048ab96093a206e342440",
       "version_major": 2,
       "version_minor": 0
      },
      "text/plain": [
       "Label(value='Calibration')"
      ]
     },
     "metadata": {},
     "output_type": "display_data"
    },
    {
     "data": {
      "application/vnd.jupyter.widget-view+json": {
       "model_id": "fa471ac97b884a92832e2be2300f964f",
       "version_major": 2,
       "version_minor": 0
      },
      "text/plain": [
       "FloatText(value=0.0, description='Offset')"
      ]
     },
     "metadata": {},
     "output_type": "display_data"
    },
    {
     "data": {
      "application/vnd.jupyter.widget-view+json": {
       "model_id": "91c9ce2cedad4c4e84e7176c2a93a229",
       "version_major": 2,
       "version_minor": 0
      },
      "text/plain": [
       "FloatText(value=1.0, description='Pente')"
      ]
     },
     "metadata": {},
     "output_type": "display_data"
    },
    {
     "data": {
      "application/vnd.jupyter.widget-view+json": {
       "model_id": "34004ad89cd649718d299fd96b834c54",
       "version_major": 2,
       "version_minor": 0
      },
      "text/plain": [
       "Label(value='\\n')"
      ]
     },
     "metadata": {},
     "output_type": "display_data"
    },
    {
     "data": {
      "application/vnd.jupyter.widget-view+json": {
       "model_id": "007480d906f14b148c9d1447278b1db2",
       "version_major": 2,
       "version_minor": 0
      },
      "text/plain": [
       "Button(description='Charger', style=ButtonStyle())"
      ]
     },
     "metadata": {},
     "output_type": "display_data"
    },
    {
     "data": {
      "application/vnd.jupyter.widget-view+json": {
       "model_id": "c29a4ef7c30c4f48b47118344950bc7c",
       "version_major": 2,
       "version_minor": 0
      },
      "text/plain": [
       "Output()"
      ]
     },
     "metadata": {},
     "output_type": "display_data"
    },
    {
     "data": {
      "application/vnd.jupyter.widget-view+json": {
       "model_id": "4774da0ba94a464ea5d109afb431a11e",
       "version_major": 2,
       "version_minor": 0
      },
      "text/plain": [
       "HTML(value='<hr/>')"
      ]
     },
     "metadata": {},
     "output_type": "display_data"
    },
    {
     "data": {
      "application/vnd.jupyter.widget-view+json": {
       "model_id": "895a05a3d3cd4a66a54aa9ef0a0194cb",
       "version_major": 2,
       "version_minor": 0
      },
      "text/plain": [
       "Label(value='Limites pour le fit')"
      ]
     },
     "metadata": {},
     "output_type": "display_data"
    },
    {
     "data": {
      "application/vnd.jupyter.widget-view+json": {
       "model_id": "ead8e9b1e1c3489abefc81e6561386d1",
       "version_major": 2,
       "version_minor": 0
      },
      "text/plain": [
       "FloatText(value=0.0, description='X min')"
      ]
     },
     "metadata": {},
     "output_type": "display_data"
    },
    {
     "data": {
      "application/vnd.jupyter.widget-view+json": {
       "model_id": "0ea692e6b0a5434381f2a1e8e2cb0aed",
       "version_major": 2,
       "version_minor": 0
      },
      "text/plain": [
       "FloatText(value=3500.0, description='X max')"
      ]
     },
     "metadata": {},
     "output_type": "display_data"
    },
    {
     "data": {
      "application/vnd.jupyter.widget-view+json": {
       "model_id": "be34c29c23f54631b2a73c6aab0437e8",
       "version_major": 2,
       "version_minor": 0
      },
      "text/plain": [
       "Button(description='pre-visualiser le zoom', style=ButtonStyle())"
      ]
     },
     "metadata": {},
     "output_type": "display_data"
    },
    {
     "data": {
      "application/vnd.jupyter.widget-view+json": {
       "model_id": "5cd14ce9dd65418da69dbee0339d268e",
       "version_major": 2,
       "version_minor": 0
      },
      "text/plain": [
       "Output()"
      ]
     },
     "metadata": {},
     "output_type": "display_data"
    },
    {
     "data": {
      "application/vnd.jupyter.widget-view+json": {
       "model_id": "79b6f6a87ccc426f8a35cfe0b6e0e5b2",
       "version_major": 2,
       "version_minor": 0
      },
      "text/plain": [
       "HTML(value='<hr/>')"
      ]
     },
     "metadata": {},
     "output_type": "display_data"
    },
    {
     "data": {
      "application/vnd.jupyter.widget-view+json": {
       "model_id": "9e9d9dfcbcb943f28971c8db10ce92d3",
       "version_major": 2,
       "version_minor": 0
      },
      "text/plain": [
       "Button(description='Go fit!', style=ButtonStyle())"
      ]
     },
     "metadata": {},
     "output_type": "display_data"
    },
    {
     "data": {
      "application/vnd.jupyter.widget-view+json": {
       "model_id": "1e896324dac24bf8b1805bc76d71305b",
       "version_major": 2,
       "version_minor": 0
      },
      "text/plain": [
       "Output()"
      ]
     },
     "metadata": {},
     "output_type": "display_data"
    }
   ],
   "source": [
    "Markdown(\"# Chargement des données\")\n",
    "# listing all sub dirctories of donnees\n",
    "list_of_runs = sorted(os.listdir(path='./donnees'))\n",
    "\n",
    "run_select = widgets.Dropdown(\n",
    "    options=list_of_runs,\n",
    "    value=list_of_runs[-1],\n",
    "    description='donnée:',\n",
    "    disabled=False,\n",
    ")\n",
    "\n",
    "calib_offset = widgets.FloatText(description='Offset',\n",
    "                                 value=0.0)\n",
    "calib_slope = widgets.FloatText(description='Pente',\n",
    "                                value=1.0)\n",
    "\n",
    "button = widgets.Button(description=\"Charger\")\n",
    "output = widgets.Output()\n",
    "\n",
    "display(widgets.Label(value='Données à charger :'),\n",
    "        run_select, \n",
    "        widgets.Label(value='Calibration'),\n",
    "        calib_offset, calib_slope,\n",
    "        widgets.Label(value='\\n'),\n",
    "        button, \n",
    "        output,\n",
    "       widgets.HTML(value=\"<hr/>\"))\n",
    "\n",
    "def on_button_clicked(b):\n",
    "    the_calib = lambda x: calib_offset.value + calib_slope.value*x\n",
    "    the_data = tnthisto('donnees/'+run_select.value,\n",
    "                        normalizetoduration=False, \n",
    "                        calibration=the_calib)\n",
    "    #output.clear_output()\n",
    "    with output:\n",
    "        output.clear_output()\n",
    "        print(\"Run selectionné: **\"+run_select.value+\"**\")\n",
    "        print(f\"\"\" \n",
    "        - Duree du run: {the_data.duration} secondes\n",
    "        - Hits: {the_data.hits}\n",
    "        \"\"\")\n",
    "        the_data.plot()\n",
    "button.on_click(on_button_clicked)\n",
    "\n",
    "\n",
    "Markdown('# fit d\\'un pic')\n",
    "\n",
    "xmin_f = widgets.FloatText(description='X min', \n",
    "                           value=0)\n",
    "xmax_f = widgets.FloatText(description='X max',\n",
    "                          value=3500)\n",
    "\n",
    "btn_previszoom = widgets.Button(description='pre-visualiser le zoom')\n",
    "previs_out = widgets.Output()\n",
    "\n",
    "def on_previszoom_click(b):\n",
    "    the_calib = lambda x: calib_offset.value + calib_slope.value*x\n",
    "    the_data = tnthisto('donnees/'+run_select.value,\n",
    "                        normalizetoduration=False, \n",
    "                        calibration=the_calib)\n",
    "    with previs_out:\n",
    "        previs_out.clear_output()\n",
    "        the_data.plot(xmin_f.value,\n",
    "                      xmax_f.value)\n",
    "btn_previszoom.on_click(on_previszoom_click)\n",
    "        \n",
    "display(widgets.Label(value=\"Limites pour le fit\"),\n",
    "        xmin_f, xmax_f,\n",
    "       btn_previszoom,\n",
    "       previs_out,\n",
    "       widgets.HTML(value=\"<hr/>\"))\n",
    "\n",
    "\n",
    "Markdown(\"## Effectuer le fit\")\n",
    "\n",
    "btn_do_fit = widgets.Button(description=\"Go fit!\")\n",
    "out_fit = widgets.Output()\n",
    "\n",
    "def on_do_fit_click(b):\n",
    "    the_calib = lambda x: calib_offset.value + calib_slope.value*x\n",
    "    the_data = tnthisto('donnees/'+run_select.value,\n",
    "                        normalizetoduration=False, \n",
    "                        calibration=the_calib)\n",
    "    with out_fit:\n",
    "        out_fit.clear_output()\n",
    "        fit_result = the_data.peakfit(xmin_f.value,\n",
    "                          xmax_f.value)\n",
    "        plotfit(**fit_result)\n",
    "        print(f\"\"\"\n",
    "        - Integrale : {fit_result['integral']}\n",
    "        - Centre de la gaussienne: {fit_result['mean']}\n",
    "        - Ecart type de la gaussienne: {fit_result['stdev']}\n",
    "        \"\"\")\n",
    "\n",
    "        \n",
    "btn_do_fit.on_click(on_do_fit_click)\n",
    "\n",
    "display(btn_do_fit,\n",
    "       out_fit)\n"
   ]
  },
  {
   "cell_type": "code",
   "execution_count": null,
   "metadata": {
    "jupyter": {
     "source_hidden": true
    }
   },
   "outputs": [],
   "source": []
  }
 ],
 "metadata": {
  "kernelspec": {
   "display_name": "Python 3",
   "language": "python",
   "name": "python3"
  },
  "language_info": {
   "codemirror_mode": {
    "name": "ipython",
    "version": 3
   },
   "file_extension": ".py",
   "mimetype": "text/x-python",
   "name": "python",
   "nbconvert_exporter": "python",
   "pygments_lexer": "ipython3",
   "version": "3.7.4"
  }
 },
 "nbformat": 4,
 "nbformat_minor": 4
}
