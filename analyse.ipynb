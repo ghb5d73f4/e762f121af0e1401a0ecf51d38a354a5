{
 "cells": [
  {
   "cell_type": "code",
   "execution_count": 4,
   "metadata": {
    "jupyter": {
     "source_hidden": true
    }
   },
   "outputs": [],
   "source": [
    "%matplotlib inline\n",
    "\n",
    "import os\n",
    "import math\n",
    "\n",
    "import matplotlib.pyplot as plt\n",
    "import numpy as np\n",
    "\n",
    "import ipywidgets as widgets\n",
    "from IPython.display import display, Markdown\n",
    "\n",
    "from tools.loadhisto import tnthisto, plotfit"
   ]
  },
  {
   "cell_type": "code",
   "execution_count": 5,
   "metadata": {
    "jupyter": {
     "source_hidden": true
    }
   },
   "outputs": [
    {
     "data": {
      "application/vnd.jupyter.widget-view+json": {
       "model_id": "3b74f349d05e4b3189e7e5cee82b65ce",
       "version_major": 2,
       "version_minor": 0
      },
      "text/plain": [
       "Label(value='Données à charger :')"
      ]
     },
     "metadata": {},
     "output_type": "display_data"
    },
    {
     "data": {
      "application/vnd.jupyter.widget-view+json": {
       "model_id": "762732757cc54b268df1b0480a1d68ab",
       "version_major": 2,
       "version_minor": 0
      },
      "text/plain": [
       "Dropdown(description='donnée:', index=16, options=('Cobalt', 'Cobalt 2 eme mesure', 'bruitdefond', 'paramaetre…"
      ]
     },
     "metadata": {},
     "output_type": "display_data"
    },
    {
     "data": {
      "application/vnd.jupyter.widget-view+json": {
       "model_id": "c65959e9ad8448658d7c3ad0372c6b20",
       "version_major": 2,
       "version_minor": 0
      },
      "text/plain": [
       "Label(value='Calibration')"
      ]
     },
     "metadata": {},
     "output_type": "display_data"
    },
    {
     "data": {
      "application/vnd.jupyter.widget-view+json": {
       "model_id": "97d4f7211eeb4e72b1abfe4dba754f19",
       "version_major": 2,
       "version_minor": 0
      },
      "text/plain": [
       "FloatText(value=0.0, description='Offset')"
      ]
     },
     "metadata": {},
     "output_type": "display_data"
    },
    {
     "data": {
      "application/vnd.jupyter.widget-view+json": {
       "model_id": "40a5496eb74243e8b96d4a0ab13994e4",
       "version_major": 2,
       "version_minor": 0
      },
      "text/plain": [
       "FloatText(value=1.0, description='Pente')"
      ]
     },
     "metadata": {},
     "output_type": "display_data"
    },
    {
     "data": {
      "application/vnd.jupyter.widget-view+json": {
       "model_id": "956d0a00cb8442a2884a1106fec3d944",
       "version_major": 2,
       "version_minor": 0
      },
      "text/plain": [
       "Label(value='\\n')"
      ]
     },
     "metadata": {},
     "output_type": "display_data"
    },
    {
     "data": {
      "application/vnd.jupyter.widget-view+json": {
       "model_id": "4a1494be841f4f7f94904aac6e9fd694",
       "version_major": 2,
       "version_minor": 0
      },
      "text/plain": [
       "Button(description='Charger', style=ButtonStyle())"
      ]
     },
     "metadata": {},
     "output_type": "display_data"
    },
    {
     "data": {
      "application/vnd.jupyter.widget-view+json": {
       "model_id": "3f5ef18d23154dc990e6191009988dd8",
       "version_major": 2,
       "version_minor": 0
      },
      "text/plain": [
       "Output()"
      ]
     },
     "metadata": {},
     "output_type": "display_data"
    },
    {
     "data": {
      "application/vnd.jupyter.widget-view+json": {
       "model_id": "fabbd718aa404ce3b922a4e5f8270c86",
       "version_major": 2,
       "version_minor": 0
      },
      "text/plain": [
       "HTML(value='<hr/>')"
      ]
     },
     "metadata": {},
     "output_type": "display_data"
    },
    {
     "data": {
      "application/vnd.jupyter.widget-view+json": {
       "model_id": "45d546d1e13f4087aac8e1276b198e4b",
       "version_major": 2,
       "version_minor": 0
      },
      "text/plain": [
       "Label(value='Limites pour le fit')"
      ]
     },
     "metadata": {},
     "output_type": "display_data"
    },
    {
     "data": {
      "application/vnd.jupyter.widget-view+json": {
       "model_id": "592892e35da34a759d8cdcc6d0de87c4",
       "version_major": 2,
       "version_minor": 0
      },
      "text/plain": [
       "FloatText(value=0.0, description='X min')"
      ]
     },
     "metadata": {},
     "output_type": "display_data"
    },
    {
     "data": {
      "application/vnd.jupyter.widget-view+json": {
       "model_id": "f054a0cd7742422ab754f94cf3af6773",
       "version_major": 2,
       "version_minor": 0
      },
      "text/plain": [
       "FloatText(value=3500.0, description='X max')"
      ]
     },
     "metadata": {},
     "output_type": "display_data"
    },
    {
     "data": {
      "application/vnd.jupyter.widget-view+json": {
       "model_id": "440b20a04d84427cbbb3cb53a4261068",
       "version_major": 2,
       "version_minor": 0
      },
      "text/plain": [
       "Button(description='pre-visualiser le zoom', style=ButtonStyle())"
      ]
     },
     "metadata": {},
     "output_type": "display_data"
    },
    {
     "data": {
      "application/vnd.jupyter.widget-view+json": {
       "model_id": "7d8107604e3b4dbdbff40c750c033259",
       "version_major": 2,
       "version_minor": 0
      },
      "text/plain": [
       "Output()"
      ]
     },
     "metadata": {},
     "output_type": "display_data"
    },
    {
     "data": {
      "application/vnd.jupyter.widget-view+json": {
       "model_id": "fe88f9af8e2644a58dffaee7537bd49f",
       "version_major": 2,
       "version_minor": 0
      },
      "text/plain": [
       "HTML(value='<hr/>')"
      ]
     },
     "metadata": {},
     "output_type": "display_data"
    },
    {
     "data": {
      "application/vnd.jupyter.widget-view+json": {
       "model_id": "fa060cee0d0b41a7babb618a690a835d",
       "version_major": 2,
       "version_minor": 0
      },
      "text/plain": [
       "Button(description='Go fit!', style=ButtonStyle())"
      ]
     },
     "metadata": {},
     "output_type": "display_data"
    },
    {
     "data": {
      "application/vnd.jupyter.widget-view+json": {
       "model_id": "68f3011d1cd941bd94d59479f7f07ec6",
       "version_major": 2,
       "version_minor": 0
      },
      "text/plain": [
       "Output()"
      ]
     },
     "metadata": {},
     "output_type": "display_data"
    }
   ],
   "source": [
    "Markdown(\"# Chargement des données\")\n",
    "# listing all sub dirctories of donnees\n",
    "list_of_runs = sorted(os.listdir(path='./donnees'))\n",
    "\n",
    "run_select = widgets.Dropdown(\n",
    "    options=list_of_runs,\n",
    "    value=list_of_runs[-1],\n",
    "    description='donnée:',\n",
    "    disabled=False,\n",
    ")\n",
    "\n",
    "calib_offset = widgets.FloatText(description='Offset',\n",
    "                                 value=0.0)\n",
    "calib_slope = widgets.FloatText(description='Pente',\n",
    "                                value=1.0)\n",
    "\n",
    "button = widgets.Button(description=\"Charger\")\n",
    "output = widgets.Output()\n",
    "\n",
    "display(widgets.Label(value='Données à charger :'),\n",
    "        run_select, \n",
    "        widgets.Label(value='Calibration'),\n",
    "        calib_offset, calib_slope,\n",
    "        widgets.Label(value='\\n'),\n",
    "        button, \n",
    "        output,\n",
    "       widgets.HTML(value=\"<hr/>\"))\n",
    "\n",
    "def on_button_clicked(b):\n",
    "    the_calib = lambda x: calib_offset.value + calib_slope.value*x\n",
    "    the_data = tnthisto('donnees/'+run_select.value,\n",
    "                        normalizetoduration=True, \n",
    "                        calibration=the_calib)\n",
    "    #output.clear_output()\n",
    "    with output:\n",
    "        output.clear_output()\n",
    "        print(\"Run selectionné: **\"+run_select.value+\"**\")\n",
    "        print(f\"\"\" \n",
    "        - Duree du run: {the_data.duration} secondes\n",
    "        - Hits: {the_data.hits}\n",
    "        \"\"\")\n",
    "        the_data.plot()\n",
    "button.on_click(on_button_clicked)\n",
    "\n",
    "\n",
    "Markdown('# fit d\\'un pic')\n",
    "\n",
    "xmin_f = widgets.FloatText(description='X min', \n",
    "                           value=0)\n",
    "xmax_f = widgets.FloatText(description='X max',\n",
    "                          value=3500)\n",
    "\n",
    "btn_previszoom = widgets.Button(description='pre-visualiser le zoom')\n",
    "previs_out = widgets.Output()\n",
    "\n",
    "def on_previszoom_click(b):\n",
    "    the_calib = lambda x: calib_offset.value + calib_slope.value*x\n",
    "    the_data = tnthisto('donnees/'+run_select.value,\n",
    "                        normalizetoduration=True, \n",
    "                        calibration=the_calib)\n",
    "    with previs_out:\n",
    "        previs_out.clear_output()\n",
    "        the_data.plot(xmin_f.value,\n",
    "                      xmax_f.value)\n",
    "btn_previszoom.on_click(on_previszoom_click)\n",
    "        \n",
    "display(widgets.Label(value=\"Limites pour le fit\"),\n",
    "        xmin_f, xmax_f,\n",
    "       btn_previszoom,\n",
    "       previs_out,\n",
    "       widgets.HTML(value=\"<hr/>\"))\n",
    "\n",
    "\n",
    "Markdown(\"## Effectuer le fit\")\n",
    "\n",
    "btn_do_fit = widgets.Button(description=\"Go fit!\")\n",
    "out_fit = widgets.Output()\n",
    "\n",
    "def on_do_fit_click(b):\n",
    "    the_calib = lambda x: calib_offset.value + calib_slope.value*x\n",
    "    the_data = tnthisto('donnees/'+run_select.value,\n",
    "                        normalizetoduration=True, \n",
    "                        calibration=the_calib)\n",
    "    with out_fit:\n",
    "        out_fit.clear_output()\n",
    "        fit_result = the_data.peakfit(xmin_f.value,\n",
    "                          xmax_f.value)\n",
    "        plotfit(**fit_result)\n",
    "        print(f\"\"\"\n",
    "        - Integrale : {fit_result['integral']}\n",
    "        - Centre de la gaussienne: {fit_result['mean']}\n",
    "        - Ecart type de la gaussienne: {fit_result['stdev']}\n",
    "        \"\"\")\n",
    "\n",
    "        \n",
    "btn_do_fit.on_click(on_do_fit_click)\n",
    "\n",
    "display(btn_do_fit,\n",
    "       out_fit)\n"
   ]
  }
 ],
 "metadata": {
  "kernelspec": {
   "display_name": "Python 3",
   "language": "python",
   "name": "python3"
  },
  "language_info": {
   "codemirror_mode": {
    "name": "ipython",
    "version": 3
   },
   "file_extension": ".py",
   "mimetype": "text/x-python",
   "name": "python",
   "nbconvert_exporter": "python",
   "pygments_lexer": "ipython3",
   "version": "3.7.4"
  }
 },
 "nbformat": 4,
 "nbformat_minor": 4
}
